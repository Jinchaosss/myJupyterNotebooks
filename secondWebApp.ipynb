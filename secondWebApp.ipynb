{
 "cells": [
  {
   "cell_type": "code",
   "execution_count": 20,
   "id": "4de21bac-08af-4772-bb09-1567a8993081",
   "metadata": {},
   "outputs": [],
   "source": [
    "#from fastbook import *\n",
    "#from fastai.vision.widgets import *"
   ]
  },
  {
   "cell_type": "code",
   "execution_count": 21,
   "id": "db93b2ab-a055-40b6-a7fc-750d9807706c",
   "metadata": {},
   "outputs": [],
   "source": [
    "#hide_output\n",
    "#btn_upload = widgets.FileUpload()\n",
    "#btn_upload"
   ]
  },
  {
   "cell_type": "code",
   "execution_count": 22,
   "id": "bd0224b3-75b6-400a-80b9-0a1c81c75c9f",
   "metadata": {},
   "outputs": [],
   "source": [
    "#path = Path()\n",
    "#learn_inf = load_learner(path/'export.pkl', cpu=True)\n",
    "#btn_upload = widgets.FileUpload()\n",
    "#out_pl = widgets.Output()\n",
    "#lbl_pred = widgets.Label()"
   ]
  },
  {
   "cell_type": "code",
   "execution_count": 23,
   "id": "01ba2caf-ddba-4bb4-80bb-35a398e3ca81",
   "metadata": {},
   "outputs": [],
   "source": [
    "#def on_data_change(change):\n",
    "#    lbl_pred.value = ''\n",
    "#    img = PILImage.create(btn_upload.data[-1])\n",
    "#    out_pl.clear_output()\n",
    "#    with out_pl: display(img.to_thumb(128,128))\n",
    "#    pred,pred_idx,probs = learn_inf.predict(img)\n",
    "#    lbl_pred.value = f'Prediction: {pred}; Probability: {probs[pred_idx]:.04f}'"
   ]
  },
  {
   "cell_type": "code",
   "execution_count": 24,
   "id": "d4272b6b-679e-4710-bd74-8b2d34947117",
   "metadata": {},
   "outputs": [],
   "source": [
    "#btn_upload.observe(on_data_change, names=['data'])\n",
    "#display(VBox([widgets.Label('Select your bear!'), btn_upload, out_pl, lbl_pred]))"
   ]
  },
  {
   "cell_type": "code",
   "execution_count": 14,
   "id": "7cabba64-37da-47e5-b576-ed05b59d02c4",
   "metadata": {},
   "outputs": [],
   "source": [
    "#hide\n",
    "#!pip install voila\n",
    "#!jupyter serverextension enable --sys-prefix voila "
   ]
  },
  {
   "cell_type": "code",
   "execution_count": 25,
   "id": "4b1bc3ef-b023-4ef6-8f4f-7ffe0d144295",
   "metadata": {},
   "outputs": [
    {
     "name": "stdout",
     "output_type": "stream",
     "text": [
      "3\n"
     ]
    }
   ],
   "source": [
    "a=1\n",
    "b=2\n",
    "print(a+b)"
   ]
  },
  {
   "cell_type": "code",
   "execution_count": null,
   "id": "6172be0f-c0a4-481f-a2e3-7badb80b41c7",
   "metadata": {},
   "outputs": [],
   "source": []
  }
 ],
 "metadata": {
  "kernelspec": {
   "display_name": "Python 3 (ipykernel)",
   "language": "python",
   "name": "python3"
  },
  "language_info": {
   "codemirror_mode": {
    "name": "ipython",
    "version": 3
   },
   "file_extension": ".py",
   "mimetype": "text/x-python",
   "name": "python",
   "nbconvert_exporter": "python",
   "pygments_lexer": "ipython3",
   "version": "3.12.2"
  }
 },
 "nbformat": 4,
 "nbformat_minor": 5
}
